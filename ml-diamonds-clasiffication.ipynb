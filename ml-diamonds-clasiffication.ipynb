{
 "cells": [
  {
   "cell_type": "markdown",
   "id": "de97bd70",
   "metadata": {},
   "source": [
    "# LogisticRegression on **Diamonds** dataset, using a classifier on a regression dataset\n",
    "\n",
    "## Introduction\n",
    "\n",
    "- In this project I apply the **LogisticRegression** classifier on the **Diamonds** dataset from **OpenML**.\n",
    "- The main reason for using **LogisticRegression** on this dataset is documenting one of the ways to transform a regression dataset to a classification dataset.\n",
    "- The **Challenge** I am taking on is handling and observing how the accuracy and predictions change compared to the other project, where I used **LinearRegression**."
   ]
  },
  {
   "cell_type": "code",
   "execution_count": 59,
   "id": "b2064eae",
   "metadata": {},
   "outputs": [],
   "source": [
    "import warnings\n",
    "warnings.filterwarnings('ignore')\n",
    "\n",
    "from sklearn.datasets import fetch_openml\n",
    "from sklearn.preprocessing import OrdinalEncoder, StandardScaler\n",
    "from sklearn.model_selection import train_test_split, GridSearchCV\n",
    "from sklearn.linear_model import LogisticRegression\n",
    "from sklearn.metrics import confusion_matrix\n",
    "from sklearn.pipeline import Pipeline\n",
    "import matplotlib.pyplot as plt\n",
    "import seaborn as sns\n",
    "import numpy as np\n",
    "import pandas as pd"
   ]
  },
  {
   "cell_type": "markdown",
   "id": "e445e37e",
   "metadata": {},
   "source": [
    "## Loading the Dataset and transforming it into a Classification Task\n",
    "\n",
    "The dataset **Diamonds** is from [OpenML](https://www.openml.org/d/44979).\n",
    "After loading and inspecting the data, I transform the **continuous target (price)** into categorical labels by dividing it into 4 bins: \n",
    "\n",
    "**• 0 - 5000**\n",
    "\n",
    "**• 5000 - 10000**\n",
    "\n",
    "**• 10000 - 15000**\n",
    "\n",
    "**• 15000 - MAX**\n",
    "\n",
    "The binning process converts the regression problem into a **Clasification Task**.\n",
    "With ≈54000 instances, 4 bins is enough, as the first bin is by far the most **dense**  "
   ]
  },
  {
   "cell_type": "code",
   "execution_count": 65,
   "id": "0da2b936",
   "metadata": {},
   "outputs": [
    {
     "data": {
      "text/plain": [
       "(       carat        cut color clarity  depth  table     x     y     z\n",
       " 0       0.23      Ideal     E     SI2   61.5   55.0  3.95  3.98  2.43\n",
       " 1       0.21    Premium     E     SI1   59.8   61.0  3.89  3.84  2.31\n",
       " 2       0.23       Good     E     VS1   56.9   65.0  4.05  4.07  2.31\n",
       " 3       0.29    Premium     I     VS2   62.4   58.0  4.20  4.23  2.63\n",
       " 4       0.31       Good     J     SI2   63.3   58.0  4.34  4.35  2.75\n",
       " ...      ...        ...   ...     ...    ...    ...   ...   ...   ...\n",
       " 53935   0.72      Ideal     D     SI1   60.8   57.0  5.75  5.76  3.50\n",
       " 53936   0.72       Good     D     SI1   63.1   55.0  5.69  5.75  3.61\n",
       " 53937   0.70  Very Good     D     SI1   62.8   60.0  5.66  5.68  3.56\n",
       " 53938   0.86    Premium     H     SI2   61.0   58.0  6.15  6.12  3.74\n",
       " 53939   0.75      Ideal     D     SI2   62.2   55.0  5.83  5.87  3.64\n",
       " \n",
       " [53940 rows x 9 columns],\n",
       " carat      0\n",
       " cut        0\n",
       " color      0\n",
       " clarity    0\n",
       " depth      0\n",
       " table      0\n",
       " x          0\n",
       " y          0\n",
       " z          0\n",
       " dtype: int64,\n",
       " 0        0\n",
       " 1        0\n",
       " 2        0\n",
       " 3        0\n",
       " 4        0\n",
       "         ..\n",
       " 53935    0\n",
       " 53936    0\n",
       " 53937    0\n",
       " 53938    0\n",
       " 53939    0\n",
       " Name: price, Length: 53940, dtype: category\n",
       " Categories (4, int64): [0 < 1 < 2 < 3])"
      ]
     },
     "execution_count": 65,
     "metadata": {},
     "output_type": "execute_result"
    }
   ],
   "source": [
    "data = fetch_openml('diamonds', as_frame=True)\n",
    "\n",
    "X = data.data\n",
    "y = data.target\n",
    "\n",
    "X\n",
    "\n",
    "bins = [0, 5000, 10000, 15000, y.max()]\n",
    "labels = [0, 1, 2, 3]\n",
    "y = pd.cut(y, bins=bins, labels=labels)\n",
    "\n",
    "X, X.isna().sum(), y"
   ]
  },
  {
   "cell_type": "markdown",
   "id": "e348e20c",
   "metadata": {},
   "source": [
    "## Studying the Categorical Columns\n",
    "\n",
    "After finding out what types of values are present, I list all the unqiue values in the **categorical columns** for encoding purposes.\n",
    "**Nothing changes here.**"
   ]
  },
  {
   "cell_type": "code",
   "execution_count": 61,
   "id": "30de55c8",
   "metadata": {},
   "outputs": [
    {
     "data": {
      "text/plain": [
       "(['Ideal', 'Premium', 'Good', 'Very Good', 'Fair'],\n",
       " ['E', 'I', 'J', 'H', 'F', 'G', 'D'],\n",
       " ['SI2', 'SI1', 'VS1', 'VS2', 'VVS2', 'VVS1', 'I1', 'IF'])"
      ]
     },
     "execution_count": 61,
     "metadata": {},
     "output_type": "execute_result"
    }
   ],
   "source": [
    "list(X['cut'].unique()), list(X['color'].unique()), list(X['clarity'].unique())"
   ]
  },
  {
   "cell_type": "markdown",
   "id": "f45ba810",
   "metadata": {},
   "source": [
    "## Creating Maps for encoding Categorical Values + Feature Engineering\n",
    "\n",
    "In this step, I create a map for each non-numerical **column** to encode its values in numeric form. This allows the model to interpret and use these features effectively during training.\n",
    "\n",
    "In contrast to **LinearRegression**, even though both models are linear and try to predict what **'weights'** to use, for **LogisticRegression** I don't need to eliminate columns or create new ones to avoid collinearity thanks to regularization(with **L2**), the model penalized **'big'** coeficients.\n",
    "\n",
    "**A little context/story: These linear models try to assign a weight to each feature. When features are highly correlated (multicollinearity), the model struggles to decide which feature should get the credit, leading to unstable coeficients.**\n",
    "**Regularization in LogisticRegression addresses this issue.**"
   ]
  },
  {
   "cell_type": "code",
   "execution_count": 62,
   "id": "b1a68bf3",
   "metadata": {},
   "outputs": [
    {
     "data": {
      "text/html": [
       "<div>\n",
       "<style scoped>\n",
       "    .dataframe tbody tr th:only-of-type {\n",
       "        vertical-align: middle;\n",
       "    }\n",
       "\n",
       "    .dataframe tbody tr th {\n",
       "        vertical-align: top;\n",
       "    }\n",
       "\n",
       "    .dataframe thead th {\n",
       "        text-align: right;\n",
       "    }\n",
       "</style>\n",
       "<table border=\"1\" class=\"dataframe\">\n",
       "  <thead>\n",
       "    <tr style=\"text-align: right;\">\n",
       "      <th></th>\n",
       "      <th>carat</th>\n",
       "      <th>cut</th>\n",
       "      <th>color</th>\n",
       "      <th>clarity</th>\n",
       "      <th>depth</th>\n",
       "      <th>table</th>\n",
       "      <th>volume</th>\n",
       "    </tr>\n",
       "  </thead>\n",
       "  <tbody>\n",
       "    <tr>\n",
       "      <th>0</th>\n",
       "      <td>0.23</td>\n",
       "      <td>4</td>\n",
       "      <td>5</td>\n",
       "      <td>1</td>\n",
       "      <td>61.5</td>\n",
       "      <td>55.0</td>\n",
       "      <td>38.2</td>\n",
       "    </tr>\n",
       "    <tr>\n",
       "      <th>1</th>\n",
       "      <td>0.21</td>\n",
       "      <td>3</td>\n",
       "      <td>5</td>\n",
       "      <td>2</td>\n",
       "      <td>59.8</td>\n",
       "      <td>61.0</td>\n",
       "      <td>34.5</td>\n",
       "    </tr>\n",
       "    <tr>\n",
       "      <th>2</th>\n",
       "      <td>0.23</td>\n",
       "      <td>1</td>\n",
       "      <td>5</td>\n",
       "      <td>4</td>\n",
       "      <td>56.9</td>\n",
       "      <td>65.0</td>\n",
       "      <td>38.1</td>\n",
       "    </tr>\n",
       "    <tr>\n",
       "      <th>3</th>\n",
       "      <td>0.29</td>\n",
       "      <td>3</td>\n",
       "      <td>1</td>\n",
       "      <td>3</td>\n",
       "      <td>62.4</td>\n",
       "      <td>58.0</td>\n",
       "      <td>46.7</td>\n",
       "    </tr>\n",
       "    <tr>\n",
       "      <th>4</th>\n",
       "      <td>0.31</td>\n",
       "      <td>1</td>\n",
       "      <td>0</td>\n",
       "      <td>1</td>\n",
       "      <td>63.3</td>\n",
       "      <td>58.0</td>\n",
       "      <td>51.9</td>\n",
       "    </tr>\n",
       "    <tr>\n",
       "      <th>...</th>\n",
       "      <td>...</td>\n",
       "      <td>...</td>\n",
       "      <td>...</td>\n",
       "      <td>...</td>\n",
       "      <td>...</td>\n",
       "      <td>...</td>\n",
       "      <td>...</td>\n",
       "    </tr>\n",
       "    <tr>\n",
       "      <th>53935</th>\n",
       "      <td>0.72</td>\n",
       "      <td>4</td>\n",
       "      <td>6</td>\n",
       "      <td>2</td>\n",
       "      <td>60.8</td>\n",
       "      <td>57.0</td>\n",
       "      <td>115.9</td>\n",
       "    </tr>\n",
       "    <tr>\n",
       "      <th>53936</th>\n",
       "      <td>0.72</td>\n",
       "      <td>1</td>\n",
       "      <td>6</td>\n",
       "      <td>2</td>\n",
       "      <td>63.1</td>\n",
       "      <td>55.0</td>\n",
       "      <td>118.1</td>\n",
       "    </tr>\n",
       "    <tr>\n",
       "      <th>53937</th>\n",
       "      <td>0.70</td>\n",
       "      <td>2</td>\n",
       "      <td>6</td>\n",
       "      <td>2</td>\n",
       "      <td>62.8</td>\n",
       "      <td>60.0</td>\n",
       "      <td>114.4</td>\n",
       "    </tr>\n",
       "    <tr>\n",
       "      <th>53938</th>\n",
       "      <td>0.86</td>\n",
       "      <td>3</td>\n",
       "      <td>2</td>\n",
       "      <td>1</td>\n",
       "      <td>61.0</td>\n",
       "      <td>58.0</td>\n",
       "      <td>140.8</td>\n",
       "    </tr>\n",
       "    <tr>\n",
       "      <th>53939</th>\n",
       "      <td>0.75</td>\n",
       "      <td>4</td>\n",
       "      <td>6</td>\n",
       "      <td>1</td>\n",
       "      <td>62.2</td>\n",
       "      <td>55.0</td>\n",
       "      <td>124.6</td>\n",
       "    </tr>\n",
       "  </tbody>\n",
       "</table>\n",
       "<p>53940 rows × 7 columns</p>\n",
       "</div>"
      ],
      "text/plain": [
       "       carat cut color clarity  depth  table  volume\n",
       "0       0.23   4     5       1   61.5   55.0    38.2\n",
       "1       0.21   3     5       2   59.8   61.0    34.5\n",
       "2       0.23   1     5       4   56.9   65.0    38.1\n",
       "3       0.29   3     1       3   62.4   58.0    46.7\n",
       "4       0.31   1     0       1   63.3   58.0    51.9\n",
       "...      ...  ..   ...     ...    ...    ...     ...\n",
       "53935   0.72   4     6       2   60.8   57.0   115.9\n",
       "53936   0.72   1     6       2   63.1   55.0   118.1\n",
       "53937   0.70   2     6       2   62.8   60.0   114.4\n",
       "53938   0.86   3     2       1   61.0   58.0   140.8\n",
       "53939   0.75   4     6       1   62.2   55.0   124.6\n",
       "\n",
       "[53940 rows x 7 columns]"
      ]
     },
     "execution_count": 62,
     "metadata": {},
     "output_type": "execute_result"
    }
   ],
   "source": [
    "cut_map = {'Fair' : 0, 'Good' : 1, 'Very Good' : 2, 'Premium' : 3, 'Ideal' : 4}\n",
    "color_map = {'D' : 6, 'E' : 5, 'F' : 4, 'G' : 3, 'H' : 2, 'I' : 1, 'J' : 0}\n",
    "clarity_map = {'I1' : 0, 'SI2' : 1, 'SI1' : 2, 'VS2' : 3, 'VS1' : 4, 'VVS2' : 5, 'VVS1' : 6, 'IF' : 7}\n",
    "\n",
    "X['cut'] = X['cut'].map(cut_map)\n",
    "X['color'] = X['color'].map(color_map)\n",
    "X['clarity'] = X['clarity'].map(clarity_map)\n",
    "X['volume'] = round(X['x'] * X['y'] * X['z'], 1)\n",
    "X.drop(columns=['x', 'y', 'z'], inplace=True)\n",
    "X\n"
   ]
  },
  {
   "cell_type": "markdown",
   "id": "138c7ecb",
   "metadata": {},
   "source": [
    "## Splitting the Data\n",
    "\n",
    "Again, I split the data with a **train_test_split**, and plotted two graphs below showing a really even split in classes between **y_train** and **y_test**.\n",
    "\n",
    "In this case, I don't need to log-scale the data, **LogisticRegression** is not sensitive to a sparse dataset. It works with scalars rather than distance, it ignores '0' features and **regularization** helps it assign the corect weights."
   ]
  },
  {
   "cell_type": "code",
   "execution_count": 63,
   "id": "95ffe2b0",
   "metadata": {},
   "outputs": [
    {
     "data": {
      "image/png": "[encoded data removed]",
      "text/plain": [
       "<Figure size 640x480 with 1 Axes>"
      ]
     },
     "metadata": {},
     "output_type": "display_data"
    },
    {
     "data": {
      "image/png": "[encoded data removed]",
      "text/plain": [
       "<Figure size 640x480 with 1 Axes>"
      ]
     },
     "metadata": {},
     "output_type": "display_data"
    }
   ],
   "source": [
    "X_train, X_test, y_train, y_test = train_test_split(X, y, test_size=0.2, random_state=42)\n",
    "\n",
    "sns.countplot(x=y_train)\n",
    "plt.show()\n",
    "sns.countplot(x=y_test)\n",
    "plt.show()"
   ]
  },
  {
   "cell_type": "markdown",
   "id": "33ff0609",
   "metadata": {},
   "source": [
    "## Training + Pipeline + Discussion about **Scaling**\n",
    "\n",
    "I used a pipeline for code cleanliness and scalability sake, used a grid to find the best **'C'** hyperparameter (**'C'** controls how much coeficients are being penalized, '0.01' - strong; '100' - weak) and, for clarity, I fixed the other hyperparameters as standard values.\n",
    "\n",
    "After using **GridSearch**, the best **'C'** value was **'10'** indicating a weak penalization.\n",
    "Meaning values of big magnitude, if any, are important and are allowed to fully contribute to the model.\n",
    "\n",
    "**Scaling** was needed. Even though it is a linear model and does not use **'distances'**, I used **StandardScaler** to help **Regularization**.  If I hadn't scale the data, the regularizator would have penalized big values wrongly, affecting regularization between features."
   ]
  },
  {
   "cell_type": "code",
   "execution_count": 64,
   "id": "75910f91",
   "metadata": {},
   "outputs": [
    {
     "data": {
      "text/plain": [
       "(array([[7705,  206,    0,    0],\n",
       "        [ 224, 1525,   90,    5],\n",
       "        [   1,  115,  492,   86],\n",
       "        [   0,    0,  135,  204]]),\n",
       " np.float64(0.922297995328757))"
      ]
     },
     "execution_count": 64,
     "metadata": {},
     "output_type": "execute_result"
    }
   ],
   "source": [
    "pipeline = Pipeline([\n",
    "    ('scaler', StandardScaler()),\n",
    "    ('model', LogisticRegression())\n",
    "])\n",
    "\n",
    "params = {\n",
    "    \"model__C\" : [0.01, 0.1, 1, 10, 100],\n",
    "    \"model__penalty\" : ['l2'],\n",
    "    \"model__solver\" : ['lbfgs'],\n",
    "    \"model__multi_class\" : ['multinomial']\n",
    "}\n",
    "\n",
    "grid = GridSearchCV(pipeline, params, cv = 5, scoring='accuracy')\n",
    "grid.fit(X_train, y_train)\n",
    "\n",
    "y_pred = grid.predict(X_test)\n",
    "confusion_matrix(y_test, y_pred, labels=None), grid.best_score_"
   ]
  },
  {
   "cell_type": "markdown",
   "id": "8c774be8",
   "metadata": {},
   "source": [
    "## Conclusion\n",
    "\n",
    "There is a very big difference in behaviour between the two models.\n",
    "Again, coming to the same conclusion, understanding the **core principles** of the model you are working with is among the most important factors.\n",
    "\n",
    "After the **GridSearch**, the models best score was ≈0.92, a little lower than the other model.\n",
    "After using a **ConfusionMatrix**, it could be clearly seen that the predictions where very close to the real values, the main problem was a small difference in predicted values vs the real ones (in most cases <200) that **Classified** the instance in a neighbouring class (e.g., real price:4950, prediction:5100), in this case, even though the values were very close, the prediction was counted as wrong."
   ]
  }
 ],
 "metadata": {
  "kernelspec": {
   "display_name": "Python 3",
   "language": "python",
   "name": "python3"
  },
  "language_info": {
   "codemirror_mode": {
    "name": "ipython",
    "version": 3
   },
   "file_extension": ".py",
   "mimetype": "text/x-python",
   "name": "python",
   "nbconvert_exporter": "python",
   "pygments_lexer": "ipython3",
   "version": "3.13.7"
  }
 },
 "nbformat": 4,
 "nbformat_minor": 5
}
